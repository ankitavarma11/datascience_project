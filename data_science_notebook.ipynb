{
 "cells": [
  {
   "cell_type": "markdown",
   "id": "9ca0c128",
   "metadata": {},
   "source": [
    "# Data Science Notebook"
   ]
  },
  {
   "cell_type": "markdown",
   "id": "b8e75ce4",
   "metadata": {},
   "source": [
    "## Introduction\n",
    "In this notebook, we will explore various aspects of data science, including languages, libraries, and tools commonly used in the field. We will also showcase some arithmetic examples and work with code cells to perform basic operations."
   ]
  },
  {
   "cell_type": "markdown",
   "id": "ea5162a9",
   "metadata": {},
   "source": [
    "## Data Science Languages\n",
    "- Python\n",
    "- R\n",
    "- SQL\n",
    "- Julia\n",
    "- Java"
   ]
  },
  {
   "cell_type": "markdown",
   "id": "86c0a6b7",
   "metadata": {},
   "source": [
    "## Data Science Libraries\n",
    "- Pandas\n",
    "- NumPy\n",
    "- Matplotlib\n",
    "- Scikit-learn\n",
    "- TensorFlow\n",
    "- PyTorch"
   ]
  },
  {
   "cell_type": "markdown",
   "id": "265a2d5f",
   "metadata": {},
   "source": [
    "\n",
    "## Data Science Tools\n",
    "\n",
    "| Tool         | Category          | Language  |\n",
    "|--------------|-------------------|-----------|\n",
    "| Jupyter      | IDE               | Python    |\n",
    "| RStudio      | IDE               | R         |\n",
    "| TensorFlow   | Machine Learning  | Python    |\n",
    "| PyTorch      | Machine Learning  | Python    |\n",
    "| Hadoop       | Big Data          | Java      |\n",
    "| SQL          | Database          | SQL       |\n"
   ]
  },
  {
   "cell_type": "markdown",
   "id": "ef83e27b",
   "metadata": {},
   "source": [
    "## Arithmetic Expression Examples\n",
    "In this section, we will demonstrate some basic arithmetic operations using Python code, including multiplication and addition."
   ]
  },
  {
   "cell_type": "code",
   "execution_count": null,
   "id": "665ba385",
   "metadata": {},
   "outputs": [],
   "source": [
    "\n",
    "# Multiplying and adding numbers\n",
    "a = 5\n",
    "b = 10\n",
    "result = (a * b) + 20\n",
    "result\n"
   ]
  },
  {
   "cell_type": "code",
   "execution_count": null,
   "id": "e3c55122",
   "metadata": {},
   "outputs": [],
   "source": [
    "\n",
    "# Convert minutes to hours\n",
    "def convert_minutes_to_hours(minutes):\n",
    "    hours = minutes / 60\n",
    "    return hours\n",
    "\n",
    "convert_minutes_to_hours(120)  # Convert 120 minutes to hours\n"
   ]
  },
  {
   "cell_type": "markdown",
   "id": "e3ba8e63",
   "metadata": {},
   "source": [
    "## Objectives\n",
    "- Understand and list data science languages.\n",
    "- Learn about commonly used data science libraries.\n",
    "- Work with arithmetic expressions in Python.\n",
    "- Explore data science tools and their uses."
   ]
  },
  {
   "cell_type": "markdown",
   "id": "94a07797",
   "metadata": {},
   "source": [
    "## Author\n",
    "This notebook was created by Ankita Varma."
   ]
  }
 ],
 "metadata": {},
 "nbformat": 4,
 "nbformat_minor": 5
}
